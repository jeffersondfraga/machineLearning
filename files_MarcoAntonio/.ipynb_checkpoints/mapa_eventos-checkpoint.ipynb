{
 "cells": [
  {
   "cell_type": "code",
   "execution_count": 15,
   "metadata": {},
   "outputs": [],
   "source": [
    "import pandas as pd\n",
    "import numpy as np\n",
    "\n",
    "from sklearn.preprocessing import MultiLabelBinarizer\n",
    "mlb = MultiLabelBinarizer()"
   ]
  },
  {
   "cell_type": "markdown",
   "metadata": {},
   "source": [
    "### Importar mapa de eventos para dataframe"
   ]
  },
  {
   "cell_type": "code",
   "execution_count": 5,
   "metadata": {},
   "outputs": [],
   "source": [
    "df = pd.read_csv('mapa_eventos.csv')"
   ]
  },
  {
   "cell_type": "code",
   "execution_count": 6,
   "metadata": {},
   "outputs": [
    {
     "data": {
      "text/plain": [
       "66"
      ]
     },
     "execution_count": 6,
     "metadata": {},
     "output_type": "execute_result"
    }
   ],
   "source": [
    "items = df.detalhes.str.split(';').apply(lambda x: pd.Series(x)).stack().str.strip().unique()\n",
    "len(items)"
   ]
  },
  {
   "cell_type": "code",
   "execution_count": 8,
   "metadata": {},
   "outputs": [
    {
     "data": {
      "text/html": [
       "<div>\n",
       "<style scoped>\n",
       "    .dataframe tbody tr th:only-of-type {\n",
       "        vertical-align: middle;\n",
       "    }\n",
       "\n",
       "    .dataframe tbody tr th {\n",
       "        vertical-align: top;\n",
       "    }\n",
       "\n",
       "    .dataframe thead th {\n",
       "        text-align: right;\n",
       "    }\n",
       "</style>\n",
       "<table border=\"1\" class=\"dataframe\">\n",
       "  <thead>\n",
       "    <tr style=\"text-align: right;\">\n",
       "      <th></th>\n",
       "      <th>data</th>\n",
       "      <th>detalhes</th>\n",
       "      <th>tipo</th>\n",
       "      <th>5_dia_util</th>\n",
       "      <th>transacoes_negocio</th>\n",
       "    </tr>\n",
       "  </thead>\n",
       "  <tbody>\n",
       "    <tr>\n",
       "      <th>0</th>\n",
       "      <td>2015-01-01</td>\n",
       "      <td>Congelamento do ambiente; Feriado; Ano Novo; P...</td>\n",
       "      <td>Feriado</td>\n",
       "      <td>NaN</td>\n",
       "      <td>407.793</td>\n",
       "    </tr>\n",
       "    <tr>\n",
       "      <th>1</th>\n",
       "      <td>2015-01-02</td>\n",
       "      <td>Congelamento do ambiente; 1º dia útil; Pagamen...</td>\n",
       "      <td>Congelamento</td>\n",
       "      <td>NaN</td>\n",
       "      <td>3.709.156</td>\n",
       "    </tr>\n",
       "    <tr>\n",
       "      <th>2</th>\n",
       "      <td>2015-01-03</td>\n",
       "      <td>Congelamento do ambiente; Utilização de Caixa ...</td>\n",
       "      <td>Congelamento</td>\n",
       "      <td>NaN</td>\n",
       "      <td>876.498</td>\n",
       "    </tr>\n",
       "    <tr>\n",
       "      <th>3</th>\n",
       "      <td>2015-01-04</td>\n",
       "      <td>Congelamento do ambiente; Utilização de Caixa ...</td>\n",
       "      <td>Congelamento</td>\n",
       "      <td>NaN</td>\n",
       "      <td>520.752</td>\n",
       "    </tr>\n",
       "    <tr>\n",
       "      <th>4</th>\n",
       "      <td>2015-01-05</td>\n",
       "      <td>Movimento Segunda-Feira; Pagamento de benefíci...</td>\n",
       "      <td>Alto Risco</td>\n",
       "      <td>NaN</td>\n",
       "      <td>5.757.740</td>\n",
       "    </tr>\n",
       "  </tbody>\n",
       "</table>\n",
       "</div>"
      ],
      "text/plain": [
       "         data                                           detalhes  \\\n",
       "0  2015-01-01  Congelamento do ambiente; Feriado; Ano Novo; P...   \n",
       "1  2015-01-02  Congelamento do ambiente; 1º dia útil; Pagamen...   \n",
       "2  2015-01-03  Congelamento do ambiente; Utilização de Caixa ...   \n",
       "3  2015-01-04  Congelamento do ambiente; Utilização de Caixa ...   \n",
       "4  2015-01-05  Movimento Segunda-Feira; Pagamento de benefíci...   \n",
       "\n",
       "           tipo  5_dia_util transacoes_negocio  \n",
       "0       Feriado         NaN            407.793  \n",
       "1  Congelamento         NaN          3.709.156  \n",
       "2  Congelamento         NaN            876.498  \n",
       "3  Congelamento         NaN            520.752  \n",
       "4    Alto Risco         NaN          5.757.740  "
      ]
     },
     "execution_count": 8,
     "metadata": {},
     "output_type": "execute_result"
    }
   ],
   "source": [
    "df.head()"
   ]
  },
  {
   "cell_type": "code",
   "execution_count": 22,
   "metadata": {},
   "outputs": [
    {
     "data": {
      "text/plain": [
       "Arrecadação de Convênios                                                                                                 513\n",
       "Pagamento de benefícios INSS                                                                                             465\n",
       "Utilização de Caixa Eletrônico                                                                                           372\n",
       "Dia Produção Sisbr                                                                                                       357\n",
       "Congelamento do ambiente                                                                                                 191\n",
       "Movimento Segunda-Feira                                                                                                  182\n",
       "Processo de Migração/Incorporação                                                                                         99\n",
       "Aumento do volume de transações para os Canais Digitais e Canais Convencionais                                            97\n",
       "Arrecadação de GPS                                                                                                        94\n",
       "Aumento de transações CDO e ATM                                                                                           91\n",
       "Movimento Batch – Empréstimo 0001                                                                                         84\n",
       "Movimento Batch – Compe Inferior                                                                                          83\n",
       "Utilização dos Canais Digitais                                                                                            76\n",
       "Arrecadação do Convênio IPVA                                                                                              72\n",
       "Previsão de grande movimento                                                                                              53\n",
       "Pagamento de leite das Cooperativas Rurais                                                                                48\n",
       "Arrecadação de DARF e DAS                                                                                                 47\n",
       "Feriado                                                                                                                   45\n",
       "Dia de maior movimento do Sicoobnet Empresarial                                                                           44\n",
       "Liberação Operações de Crédito                                                                                            43\n",
       "Grande Movimento Batch                                                                                                    43\n",
       "Utilização dos aplicativos #ContaFácil e #FaçaParte                                                                       38\n",
       "Aumento de transações de cartões                                                                                          28\n",
       "Grande volume de transações nas Plataformas de Negócio                                                                    22\n",
       "Antecede feriado                                                                                                          19\n",
       "Data comemorativa                                                                                                         17\n",
       "Aumento no volume de processamento do produto Poupança                                                                    13\n",
       "Pós feriado                                                                                                               12\n",
       "Processamento crítico                                                                                                     12\n",
       "Provável dia de Jogo do Brasil na Copa do Mundo                                                                            9\n",
       "                                                                                                                        ... \n",
       "Movimento Batch – Aumento nas transações de Devolução na Compe                                                             5\n",
       "Previsão de grande movimento no SISBR2.0                                                                                   5\n",
       "Tiradentes                                                                                                                 4\n",
       "Dia de grande movimento                                                                                                    4\n",
       "Carnaval                                                                                                                   4\n",
       "Independência do Brasil                                                                                                    4\n",
       "Dia de Jogo do Brasil na Copa do Mundo                                                                                     4\n",
       "Finados                                                                                                                    4\n",
       "Corpus Christi                                                                                                             4\n",
       "Dia do Trabalho                                                                                                            4\n",
       "Nossa Senhora Aparecida e Dia das Crianças                                                                                 4\n",
       "Ano Novo                                                                                                                   4\n",
       "Proclamação da República                                                                                                   4\n",
       "Antecede feriado prolongado                                                                                                3\n",
       "Paixão de Cristo                                                                                                           3\n",
       "1º dia útil                                                                                                                3\n",
       "Dia dos Namorados                                                                                                          3\n",
       "Natal                                                                                                                      3\n",
       "Dia Internacional do Cooperativismo                                                                                        2\n",
       "Previsão de alto tempo no processamento dos produtos empréstimo, crédito rural e TD durante o fechamento confederação      2\n",
       "Previsão de grande movimento no cobrança - nova onda                                                                       2\n",
       "Pós data comemorativa                                                                                                      2\n",
       "Dia do Evangélico                                                                                                          2\n",
       "Pós feriado prolongado                                                                                                     2\n",
       "Aumento nas transações de cartões                                                                                          1\n",
       "Aumento no tempo de processamento Batch                                                                                    1\n",
       "Aumento no Movimento de Compe Inferior                                                                                     1\n",
       "Páscoa                                                                                                                     1\n",
       "Movimento Batch – Empréstimo                                                                                               1\n",
       "Previsão de recorde movimento compesação (TTN + TTS)                                                                       1\n",
       "Length: 65, dtype: int64"
      ]
     },
     "execution_count": 22,
     "metadata": {},
     "output_type": "execute_result"
    }
   ],
   "source": [
    "df.detalhes.str.split(';').apply(lambda x: pd.Series(x)).stack().str.strip().replace('', np.nan).value_counts()"
   ]
  },
  {
   "cell_type": "markdown",
   "metadata": {},
   "source": [
    "### Transformar a coluna 5_dia_util em boolean"
   ]
  },
  {
   "cell_type": "code",
   "execution_count": null,
   "metadata": {},
   "outputs": [],
   "source": [
    "df['5_dia_util'] = df['5_dia_util'].fillna(0).astype(np.int)"
   ]
  },
  {
   "cell_type": "markdown",
   "metadata": {},
   "source": [
    "### Remover coluna transacoes_negocio"
   ]
  },
  {
   "cell_type": "code",
   "execution_count": null,
   "metadata": {},
   "outputs": [],
   "source": [
    "df.drop('transacoes_negocio', axis=1, inplace=True)"
   ]
  },
  {
   "cell_type": "markdown",
   "metadata": {},
   "source": [
    "### Transformar items da coluna`detalhes` em one hot encoded"
   ]
  },
  {
   "cell_type": "code",
   "execution_count": null,
   "metadata": {},
   "outputs": [],
   "source": [
    "detalhes = df.detalhes.str.split(';').apply(lambda x: pd.Series(x)).stack().str.strip().replace('', np.nan).dropna()\n",
    "\n",
    "detalhes_idx = detalhes.index.get_level_values(0).unique()\n",
    "detalhes_list = detalhes.groupby(level=0).apply(list).tolist()\n",
    "df.loc[detalhes_idx, 'detalhes'] = detalhes_list\n",
    "\n",
    "for row in df.loc[df.detalhes.isnull(), 'detalhes'].index: df.at[row, 'detalhes'] = []\n",
    "\n",
    "df = df.join(pd.DataFrame(mlb.fit_transform(df.pop('detalhes')), columns=mlb.classes_, index=df.index))\n",
    "    "
   ]
  },
  {
   "cell_type": "code",
   "execution_count": null,
   "metadata": {},
   "outputs": [],
   "source": []
  },
  {
   "cell_type": "code",
   "execution_count": 39,
   "metadata": {},
   "outputs": [],
   "source": [
    "df['5_dia_util'] = df['5_dia_util'].fillna(0).astype(np.int)\n",
    "# df.loc[df['5_dia_util'] == 1, '5_dia_util'] = 1"
   ]
  },
  {
   "cell_type": "code",
   "execution_count": 40,
   "metadata": {},
   "outputs": [],
   "source": [
    "detalhes = df.detalhes.str.split(';').apply(lambda x: pd.Series(x)).stack().str.strip().replace('', np.nan).dropna()\n",
    "\n",
    "detalhes_idx = detalhes.index.get_level_values(0).unique()\n",
    "detalhes_list = detalhes.groupby(level=0).apply(list).tolist()\n",
    "df.loc[detalhes_idx, 'detalhes'] = detalhes_list\n",
    "\n",
    "for row in df.loc[df.detalhes.isnull(), 'detalhes'].index:\n",
    "    df.at[row, 'detalhes'] = []"
   ]
  },
  {
   "cell_type": "code",
   "execution_count": 41,
   "metadata": {},
   "outputs": [],
   "source": [
    "df = df.join(pd.DataFrame(mlb.fit_transform(df.pop('detalhes')), columns=mlb.classes_, index=df.index))"
   ]
  },
  {
   "cell_type": "code",
   "execution_count": 42,
   "metadata": {},
   "outputs": [],
   "source": [
    "tipo_dia = pd.get_dummies(df.tipo , prefix='dia')\n",
    "df = pd.concat([df, tipo_dia], axis=1)\n",
    "df.drop('tipo', axis=1, inplace=True)"
   ]
  },
  {
   "cell_type": "code",
   "execution_count": 43,
   "metadata": {},
   "outputs": [],
   "source": [
    "add_datepart(df, 'data', drop=False)"
   ]
  },
  {
   "cell_type": "code",
   "execution_count": 44,
   "metadata": {},
   "outputs": [],
   "source": [
    "df.transacoes_negocio.fillna('0', inplace=True)\n",
    "df.transacoes_negocio = df.transacoes_negocio.str.replace('.','').astype(np.int)"
   ]
  },
  {
   "cell_type": "code",
   "execution_count": 45,
   "metadata": {},
   "outputs": [],
   "source": [
    "# df = df[df.transacoes_negocio.notnull()]"
   ]
  },
  {
   "cell_type": "code",
   "execution_count": 46,
   "metadata": {},
   "outputs": [
    {
     "data": {
      "text/html": [
       "<div>\n",
       "<style scoped>\n",
       "    .dataframe tbody tr th:only-of-type {\n",
       "        vertical-align: middle;\n",
       "    }\n",
       "\n",
       "    .dataframe tbody tr th {\n",
       "        vertical-align: top;\n",
       "    }\n",
       "\n",
       "    .dataframe thead th {\n",
       "        text-align: right;\n",
       "    }\n",
       "</style>\n",
       "<table border=\"1\" class=\"dataframe\">\n",
       "  <thead>\n",
       "    <tr style=\"text-align: right;\">\n",
       "      <th></th>\n",
       "      <th>data</th>\n",
       "      <th>5_dia_util</th>\n",
       "      <th>transacoes_negocio</th>\n",
       "      <th>1º dia útil</th>\n",
       "      <th>Ano Novo</th>\n",
       "      <th>Antecede feriado</th>\n",
       "      <th>Antecede feriado prolongado</th>\n",
       "      <th>Arrecadação de Convênios</th>\n",
       "      <th>Arrecadação de DARF e DAS</th>\n",
       "      <th>Arrecadação de GPS</th>\n",
       "      <th>...</th>\n",
       "      <th>dataDay</th>\n",
       "      <th>dataDayofweek</th>\n",
       "      <th>dataDayofyear</th>\n",
       "      <th>dataIs_month_end</th>\n",
       "      <th>dataIs_month_start</th>\n",
       "      <th>dataIs_quarter_end</th>\n",
       "      <th>dataIs_quarter_start</th>\n",
       "      <th>dataIs_year_end</th>\n",
       "      <th>dataIs_year_start</th>\n",
       "      <th>dataElapsed</th>\n",
       "    </tr>\n",
       "  </thead>\n",
       "  <tbody>\n",
       "    <tr>\n",
       "      <th>0</th>\n",
       "      <td>2015-01-01</td>\n",
       "      <td>0</td>\n",
       "      <td>407793</td>\n",
       "      <td>0</td>\n",
       "      <td>1</td>\n",
       "      <td>0</td>\n",
       "      <td>0</td>\n",
       "      <td>0</td>\n",
       "      <td>0</td>\n",
       "      <td>0</td>\n",
       "      <td>...</td>\n",
       "      <td>1.0</td>\n",
       "      <td>3.0</td>\n",
       "      <td>1.0</td>\n",
       "      <td>False</td>\n",
       "      <td>True</td>\n",
       "      <td>False</td>\n",
       "      <td>True</td>\n",
       "      <td>False</td>\n",
       "      <td>True</td>\n",
       "      <td>1420070400</td>\n",
       "    </tr>\n",
       "    <tr>\n",
       "      <th>1</th>\n",
       "      <td>2015-01-02</td>\n",
       "      <td>0</td>\n",
       "      <td>3709156</td>\n",
       "      <td>1</td>\n",
       "      <td>0</td>\n",
       "      <td>0</td>\n",
       "      <td>0</td>\n",
       "      <td>1</td>\n",
       "      <td>0</td>\n",
       "      <td>0</td>\n",
       "      <td>...</td>\n",
       "      <td>2.0</td>\n",
       "      <td>4.0</td>\n",
       "      <td>2.0</td>\n",
       "      <td>False</td>\n",
       "      <td>False</td>\n",
       "      <td>False</td>\n",
       "      <td>False</td>\n",
       "      <td>False</td>\n",
       "      <td>False</td>\n",
       "      <td>1420156800</td>\n",
       "    </tr>\n",
       "    <tr>\n",
       "      <th>2</th>\n",
       "      <td>2015-01-03</td>\n",
       "      <td>0</td>\n",
       "      <td>876498</td>\n",
       "      <td>0</td>\n",
       "      <td>0</td>\n",
       "      <td>0</td>\n",
       "      <td>0</td>\n",
       "      <td>0</td>\n",
       "      <td>0</td>\n",
       "      <td>0</td>\n",
       "      <td>...</td>\n",
       "      <td>3.0</td>\n",
       "      <td>5.0</td>\n",
       "      <td>3.0</td>\n",
       "      <td>False</td>\n",
       "      <td>False</td>\n",
       "      <td>False</td>\n",
       "      <td>False</td>\n",
       "      <td>False</td>\n",
       "      <td>False</td>\n",
       "      <td>1420243200</td>\n",
       "    </tr>\n",
       "    <tr>\n",
       "      <th>3</th>\n",
       "      <td>2015-01-04</td>\n",
       "      <td>0</td>\n",
       "      <td>520752</td>\n",
       "      <td>0</td>\n",
       "      <td>0</td>\n",
       "      <td>0</td>\n",
       "      <td>0</td>\n",
       "      <td>0</td>\n",
       "      <td>0</td>\n",
       "      <td>0</td>\n",
       "      <td>...</td>\n",
       "      <td>4.0</td>\n",
       "      <td>6.0</td>\n",
       "      <td>4.0</td>\n",
       "      <td>False</td>\n",
       "      <td>False</td>\n",
       "      <td>False</td>\n",
       "      <td>False</td>\n",
       "      <td>False</td>\n",
       "      <td>False</td>\n",
       "      <td>1420329600</td>\n",
       "    </tr>\n",
       "    <tr>\n",
       "      <th>4</th>\n",
       "      <td>2015-01-05</td>\n",
       "      <td>0</td>\n",
       "      <td>5757740</td>\n",
       "      <td>0</td>\n",
       "      <td>0</td>\n",
       "      <td>0</td>\n",
       "      <td>0</td>\n",
       "      <td>1</td>\n",
       "      <td>0</td>\n",
       "      <td>0</td>\n",
       "      <td>...</td>\n",
       "      <td>5.0</td>\n",
       "      <td>0.0</td>\n",
       "      <td>5.0</td>\n",
       "      <td>False</td>\n",
       "      <td>False</td>\n",
       "      <td>False</td>\n",
       "      <td>False</td>\n",
       "      <td>False</td>\n",
       "      <td>False</td>\n",
       "      <td>1420416000</td>\n",
       "    </tr>\n",
       "  </tbody>\n",
       "</table>\n",
       "<p>5 rows × 86 columns</p>\n",
       "</div>"
      ],
      "text/plain": [
       "        data  5_dia_util  transacoes_negocio  1º dia útil  Ano Novo  \\\n",
       "0 2015-01-01           0              407793            0         1   \n",
       "1 2015-01-02           0             3709156            1         0   \n",
       "2 2015-01-03           0              876498            0         0   \n",
       "3 2015-01-04           0              520752            0         0   \n",
       "4 2015-01-05           0             5757740            0         0   \n",
       "\n",
       "   Antecede feriado  Antecede feriado prolongado  Arrecadação de Convênios  \\\n",
       "0                 0                            0                         0   \n",
       "1                 0                            0                         1   \n",
       "2                 0                            0                         0   \n",
       "3                 0                            0                         0   \n",
       "4                 0                            0                         1   \n",
       "\n",
       "   Arrecadação de DARF e DAS  Arrecadação de GPS     ...       dataDay  \\\n",
       "0                          0                   0     ...           1.0   \n",
       "1                          0                   0     ...           2.0   \n",
       "2                          0                   0     ...           3.0   \n",
       "3                          0                   0     ...           4.0   \n",
       "4                          0                   0     ...           5.0   \n",
       "\n",
       "   dataDayofweek  dataDayofyear  dataIs_month_end  dataIs_month_start  \\\n",
       "0            3.0            1.0             False                True   \n",
       "1            4.0            2.0             False               False   \n",
       "2            5.0            3.0             False               False   \n",
       "3            6.0            4.0             False               False   \n",
       "4            0.0            5.0             False               False   \n",
       "\n",
       "   dataIs_quarter_end  dataIs_quarter_start  dataIs_year_end  \\\n",
       "0               False                  True            False   \n",
       "1               False                 False            False   \n",
       "2               False                 False            False   \n",
       "3               False                 False            False   \n",
       "4               False                 False            False   \n",
       "\n",
       "   dataIs_year_start  dataElapsed  \n",
       "0               True   1420070400  \n",
       "1              False   1420156800  \n",
       "2              False   1420243200  \n",
       "3              False   1420329600  \n",
       "4              False   1420416000  \n",
       "\n",
       "[5 rows x 86 columns]"
      ]
     },
     "execution_count": 46,
     "metadata": {},
     "output_type": "execute_result"
    }
   ],
   "source": [
    "df.head()"
   ]
  }
 ],
 "metadata": {
  "kernelspec": {
   "display_name": "Python 3",
   "language": "python",
   "name": "python3"
  },
  "language_info": {
   "codemirror_mode": {
    "name": "ipython",
    "version": 3
   },
   "file_extension": ".py",
   "mimetype": "text/x-python",
   "name": "python",
   "nbconvert_exporter": "python",
   "pygments_lexer": "ipython3",
   "version": "3.7.3"
  }
 },
 "nbformat": 4,
 "nbformat_minor": 2
}
